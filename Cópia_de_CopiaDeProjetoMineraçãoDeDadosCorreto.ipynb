{
  "cells": [
    {
      "cell_type": "markdown",
      "metadata": {
        "id": "view-in-github",
        "colab_type": "text"
      },
      "source": [
        "<a href=\"https://colab.research.google.com/github/BRUNAAM/API-DE-LOCALIZA-O/blob/main/C%C3%B3pia_de_CopiaDeProjetoMinera%C3%A7%C3%A3oDeDadosCorreto.ipynb\" target=\"_parent\"><img src=\"https://colab.research.google.com/assets/colab-badge.svg\" alt=\"Open In Colab\"/></a>"
      ]
    },
    {
      "cell_type": "markdown",
      "source": [
        "# **ANALISE EXPLORATORIA DE DADOS, COMPARAÇÃO DE MODELOS RASOS E ESEMBLE, COM METRICAS E EXPOSIÇÃO DE QUAL FOI A MELHOR**"
      ],
      "metadata": {
        "id": "yHsZyfYsc4Fd"
      }
    },
    {
      "cell_type": "code",
      "source": [
        "from google.colab import drive\n",
        "drive.mount('/content/drive')"
      ],
      "metadata": {
        "colab": {
          "base_uri": "https://localhost:8080/"
        },
        "id": "X1rgGc1Sef5w",
        "outputId": "2d721768-9e80-4920-83d8-2a9d706bec65"
      },
      "execution_count": 91,
      "outputs": [
        {
          "output_type": "stream",
          "name": "stdout",
          "text": [
            "Drive already mounted at /content/drive; to attempt to forcibly remount, call drive.mount(\"/content/drive\", force_remount=True).\n"
          ]
        }
      ]
    },
    {
      "cell_type": "code",
      "source": [
        "import pandas as pd\n",
        "import numpy as np\n",
        "import matplotlib.pyplot as plt\n",
        "from sklearn.model_selection import train_test_split, cross_val_score\n",
        "from sklearn.feature_extraction.text import TfidfVectorizer\n",
        "from sklearn.linear_model import LogisticRegression\n",
        "from sklearn.svm import SVC\n",
        "from sklearn.tree import DecisionTreeClassifier\n",
        "from sklearn.ensemble import RandomForestClassifier, GradientBoostingClassifier, AdaBoostClassifier\n",
        "from sklearn.metrics import (accuracy_score, classification_report, confusion_matrix, cohen_kappa_score, roc_curve, auc)\n",
        "from sklearn.neighbors import KNeighborsClassifier\n",
        "from sklearn.naive_bayes import GaussianNB\n",
        "from sklearn.ensemble import ExtraTreesClassifier\n",
        "from xgboost import XGBClassifier\n",
        "from sklearn.neighbors import KNeighborsClassifier\n",
        "from imblearn.over_sampling import SMOTE\n",
        "from sklearn.model_selection import train_test_split\n",
        "from sklearn.datasets import make_classification\n",
        "from sklearn.preprocessing import LabelEncoder"
      ],
      "metadata": {
        "id": "w9O7W5d6fKFU"
      },
      "execution_count": 92,
      "outputs": []
    },
    {
      "cell_type": "code",
      "source": [
        "data = pd.read_csv('/content/drive/MyDrive/sentimentdataset.csv')"
      ],
      "metadata": {
        "id": "wHTm8uCbfR8L"
      },
      "execution_count": 93,
      "outputs": []
    },
    {
      "cell_type": "code",
      "source": [
        "print(data.head())"
      ],
      "metadata": {
        "colab": {
          "base_uri": "https://localhost:8080/"
        },
        "id": "Gzlu80BufcbU",
        "outputId": "7a24ef0c-6913-4f71-8273-d2ca258f7c6d"
      },
      "execution_count": 94,
      "outputs": [
        {
          "output_type": "stream",
          "name": "stdout",
          "text": [
            "   Unnamed: 0.1  Unnamed: 0  \\\n",
            "0             0           0   \n",
            "1             1           1   \n",
            "2             2           2   \n",
            "3             3           3   \n",
            "4             4           4   \n",
            "\n",
            "                                                Text    Sentiment  \\\n",
            "0   Enjoying a beautiful day at the park!        ...   Positive     \n",
            "1   Traffic was terrible this morning.           ...   Negative     \n",
            "2   Just finished an amazing workout! 💪          ...   Positive     \n",
            "3   Excited about the upcoming weekend getaway!  ...   Positive     \n",
            "4   Trying out a new recipe for dinner tonight.  ...   Neutral      \n",
            "\n",
            "             Timestamp            User     Platform  \\\n",
            "0  2023-01-15 12:30:00   User123          Twitter     \n",
            "1  2023-01-15 08:45:00   CommuterX        Twitter     \n",
            "2  2023-01-15 15:45:00   FitnessFan      Instagram    \n",
            "3  2023-01-15 18:20:00   AdventureX       Facebook    \n",
            "4  2023-01-15 19:55:00   ChefCook        Instagram    \n",
            "\n",
            "                                     Hashtags  Retweets  Likes       Country  \\\n",
            "0   #Nature #Park                                  15.0   30.0     USA         \n",
            "1   #Traffic #Morning                               5.0   10.0     Canada      \n",
            "2   #Fitness #Workout                              20.0   40.0   USA           \n",
            "3   #Travel #Adventure                              8.0   15.0     UK          \n",
            "4   #Cooking #Food                                 12.0   25.0    Australia    \n",
            "\n",
            "   Year  Month  Day  Hour  \n",
            "0  2023      1   15    12  \n",
            "1  2023      1   15     8  \n",
            "2  2023      1   15    15  \n",
            "3  2023      1   15    18  \n",
            "4  2023      1   15    19  \n"
          ]
        }
      ]
    },
    {
      "cell_type": "code",
      "source": [
        "data.size"
      ],
      "metadata": {
        "colab": {
          "base_uri": "https://localhost:8080/"
        },
        "id": "EWwwzAgFffjI",
        "outputId": "734625fa-ee75-4d87-bcb3-187486c6860d"
      },
      "execution_count": 95,
      "outputs": [
        {
          "output_type": "execute_result",
          "data": {
            "text/plain": [
              "10980"
            ]
          },
          "metadata": {},
          "execution_count": 95
        }
      ]
    },
    {
      "cell_type": "code",
      "source": [
        "missing_values = data.isnull().sum()\n",
        "print(\"Valores ausentes por coluna:\\n\", missing_values)"
      ],
      "metadata": {
        "colab": {
          "base_uri": "https://localhost:8080/"
        },
        "id": "eqR93kA2fmld",
        "outputId": "98939238-d688-43b8-eded-1826befec79a"
      },
      "execution_count": 96,
      "outputs": [
        {
          "output_type": "stream",
          "name": "stdout",
          "text": [
            "Valores ausentes por coluna:\n",
            " Unnamed: 0.1    0\n",
            "Unnamed: 0      0\n",
            "Text            0\n",
            "Sentiment       0\n",
            "Timestamp       0\n",
            "User            0\n",
            "Platform        0\n",
            "Hashtags        0\n",
            "Retweets        0\n",
            "Likes           0\n",
            "Country         0\n",
            "Year            0\n",
            "Month           0\n",
            "Day             0\n",
            "Hour            0\n",
            "dtype: int64\n"
          ]
        }
      ]
    },
    {
      "cell_type": "code",
      "source": [
        "def categorizar_sentimento(sentimento):\n",
        "    if sentimento.strip() in ['Positive', 'Joy', 'Excitement', 'Contentment']:\n",
        "        return '+'\n",
        "    elif sentimento.strip() in ['Negative', 'Frustration', 'Anger', 'Discontent']:\n",
        "        return '-'\n",
        "    else:\n",
        "        return '0'\n",
        "\n",
        "data['Sentimento_Agrupado'] = data['Sentiment'].apply(categorizar_sentimento)\n"
      ],
      "metadata": {
        "id": "kD79kDJGfqFe"
      },
      "execution_count": 97,
      "outputs": []
    },
    {
      "cell_type": "code",
      "source": [
        "distribuicao_sentimentos = data['Sentimento_Agrupado'].value_counts()"
      ],
      "metadata": {
        "id": "emvYufbpfuDw"
      },
      "execution_count": 98,
      "outputs": []
    },
    {
      "cell_type": "code",
      "source": [
        "plt.figure(figsize=(8, 6))\n",
        "distribuicao_sentimentos.plot(kind='bar', color='skyblue')\n",
        "plt.title('Distribuição de Sentimentos Agrupados')\n",
        "plt.xlabel('Sentimento')\n",
        "plt.ylabel('Frequência')\n",
        "plt.xticks(rotation=0)\n",
        "plt.show()"
      ],
      "metadata": {
        "colab": {
          "base_uri": "https://localhost:8080/",
          "height": 564
        },
        "id": "AIjkbo6Ffwwq",
        "outputId": "05d1cd05-0887-4d67-8be2-a867141107d4"
      },
      "execution_count": 99,
      "outputs": [
        {
          "output_type": "display_data",
          "data": {
            "text/plain": [
              "<Figure size 800x600 with 1 Axes>"
            ],
            "image/png": "[encoded data removed]"
          },
          "metadata": {}
        }
      ]
    },
    {
      "cell_type": "code",
      "source": [
        "X, y = make_classification(n_samples=1000, n_features=20, n_classes=2,\n",
        "                           weights=[0.9, 0.1], flip_y=0, random_state=1)"
      ],
      "metadata": {
        "id": "Ii_h62xIOx-Z"
      },
      "execution_count": 100,
      "outputs": []
    },
    {
      "cell_type": "code",
      "source": [
        "X_train, X_test, y_train, y_test = train_test_split(X, y, test_size=0.2, random_state=42)"
      ],
      "metadata": {
        "id": "HyMWR2d_O3w3"
      },
      "execution_count": 101,
      "outputs": []
    },
    {
      "cell_type": "code",
      "source": [
        "smote = SMOTE(random_state=42)\n",
        "X_resampled, y_resampled = smote.fit_resample(X_train, y_train)"
      ],
      "metadata": {
        "id": "pZNKkF9eO7S8"
      },
      "execution_count": 102,
      "outputs": []
    },
    {
      "cell_type": "code",
      "source": [
        "print(f'Classes antes do SMOTE: {dict(zip(*np.unique(y_train, return_counts=True)))}')\n",
        "print(f'Classes após o SMOTE: {dict(zip(*np.unique(y_resampled, return_counts=True)))}')"
      ],
      "metadata": {
        "colab": {
          "base_uri": "https://localhost:8080/"
        },
        "id": "lmH2IF5vO-mj",
        "outputId": "56ad9662-2f43-486c-ce01-f591128295d6"
      },
      "execution_count": 103,
      "outputs": [
        {
          "output_type": "stream",
          "name": "stdout",
          "text": [
            "Classes antes do SMOTE: {0: 711, 1: 89}\n",
            "Classes após o SMOTE: {0: 711, 1: 711}\n"
          ]
        }
      ]
    },
    {
      "cell_type": "code",
      "source": [],
      "metadata": {
        "id": "eGxG4UPhPW5Z"
      },
      "execution_count": 103,
      "outputs": []
    },
    {
      "cell_type": "code",
      "source": [
        "# Contando as ocorrências de cada classe antes e depois do balanceamento\n",
        "unique_classes_train, counts_train = np.unique(y_train, return_counts=True)\n",
        "unique_classes_resampled, counts_resampled = np.unique(y_resampled, return_counts=True)\n",
        "\n",
        "# Plotando os dados antes e depois do balanceamento em um gráfico de barras\n",
        "fig, ax = plt.subplots(1, 2, figsize=(12, 6))\n",
        "\n",
        "# Antes do balanceamento\n",
        "ax[0].bar(unique_classes_train, counts_train, color=['blue', 'red'])\n",
        "ax[0].set_title(\"Antes do Balanceamento\")\n",
        "ax[0].set_xticks(unique_classes_train)\n",
        "ax[0].set_xticklabels(['Classe 0', 'Classe 1'])\n",
        "ax[0].set_ylabel(\"Número de Amostras\")\n",
        "\n",
        "# Depois do balanceamento\n",
        "ax[1].bar(unique_classes_resampled, counts_resampled, color=['blue', 'red'])\n",
        "ax[1].set_title(\"Depois do Balanceamento\")\n",
        "ax[1].set_xticks(unique_classes_resampled)\n",
        "ax[1].set_xticklabels(['Classe 0', 'Classe 1'])\n",
        "ax[1].set_ylabel(\"Número de Amostras\")\n",
        "\n",
        "plt.suptitle(\"Balanceamento de Dados Manual com Gráfico de Barras\")\n",
        "plt.tight_layout(rect=[0, 0, 1, 0.95])\n",
        "plt.show()\n"
      ],
      "metadata": {
        "colab": {
          "base_uri": "https://localhost:8080/",
          "height": 610
        },
        "id": "nz3ypt09PPdP",
        "outputId": "55ea97be-01c2-42f1-9857-f46a4952bc33"
      },
      "execution_count": 104,
      "outputs": [
        {
          "output_type": "display_data",
          "data": {
            "text/plain": [
              "<Figure size 1200x600 with 2 Axes>"
            ],
            "image/png": "[encoded data removed]"
          },
          "metadata": {}
        }
      ]
    },
    {
      "cell_type": "markdown",
      "source": [
        "# **Extração de características com TF-IDF**"
      ],
      "metadata": {
        "id": "peh0R3IUk0wo"
      }
    },
    {
      "cell_type": "markdown",
      "source": [
        "***Modelos para Dados Rasos:***\n",
        "\n",
        "---\n",
        "\n",
        "    'Logistic Regression',\n",
        "    'SVM',\n",
        "    'Decision Tree',\n",
        "    'Random Forest',\n",
        "    'Gradient Boosting',\n",
        "    'AdaBoost',\n",
        "    \"KNN\",\n",
        "    \"Naive Bayes\",\n",
        "    \"Extra Trees\",\n",
        "    \"XGBoost\""
      ],
      "metadata": {
        "id": "KheN8wHThnCq"
      }
    },
    {
      "cell_type": "code",
      "source": [
        "X = data['Text']\n",
        "y = data['Sentimento_Agrupado']\n",
        "\n",
        "# Dividindo os dados em conjunto de treinamento e teste\n",
        "X_train, X_test, y_train, y_test = train_test_split(X, y, test_size=0.3, random_state=42)\n",
        "\n",
        "# Aplicando o TF-IDF Vectorizer\n",
        "tfidf = TfidfVectorizer(max_features=1000)\n",
        "X_train_tfidf = tfidf.fit_transform(X_train)\n",
        "X_test_tfidf = tfidf.transform(X_test)\n",
        "\n",
        "# Convertendo para array denso para modelos que requerem isso\n",
        "X_train_tfidf_dense = X_train_tfidf.toarray()\n",
        "X_test_tfidf_dense = X_test_tfidf.toarray()\n",
        "\n",
        "# Codificando os rótulos\n",
        "le = LabelEncoder()\n",
        "y_train_encoded = le.fit_transform(y_train)\n",
        "y_test_encoded = le.transform(y_test)\n",
        "# Definindo os modelos\n",
        "\n",
        "modelos = {\n",
        "    'Regressão Logística': LogisticRegression(max_iter=200),\n",
        "    'SVM': SVC(probability=True),\n",
        "    'Arvore de Decisão': DecisionTreeClassifier(),\n",
        "    'Random Forest': RandomForestClassifier(random_state=42),\n",
        "    'Gradient Boosting': GradientBoostingClassifier(random_state=42),\n",
        "    'AdaBoost': AdaBoostClassifier(estimator=DecisionTreeClassifier(max_depth=1), random_state=42),\n",
        "    \"KNN\": KNeighborsClassifier(n_neighbors=3),\n",
        "    \"Naive Bayes\": GaussianNB(),\n",
        "    \"Extra Trees\": ExtraTreesClassifier(),\n",
        "    \"XGBoost\": XGBClassifier(use_label_encoder=False, eval_metric='mlogloss')\n",
        "}\n"
      ],
      "metadata": {
        "id": "5Q5mkvirt9qg"
      },
      "execution_count": 105,
      "outputs": []
    },
    {
      "cell_type": "code",
      "source": [
        "# Variáveis para armazenar os melhores resultados\n",
        "melhor_modelo = None\n",
        "melhor_acuracia = 0\n",
        "melhor_kappa = 0"
      ],
      "metadata": {
        "id": "gjezkWjYMM90"
      },
      "execution_count": 106,
      "outputs": []
    },
    {
      "cell_type": "code",
      "source": [
        "# Treinando os modelos, avaliando a performance e calculando as matrizes de confusão\n",
        "for nome, modelo in modelos.items():\n",
        "    if nome == \"Naive Bayes\":\n",
        "        # Naive Bayes requer entrada densa\n",
        "        X_train_dense = X_train_tfidf.toarray()\n",
        "        X_test_dense = X_test_tfidf.toarray()\n",
        "        modelo.fit(X_train_dense, y_train_encoded)\n",
        "        y_pred = modelo.predict(X_test_dense)\n",
        "    else:\n",
        "        modelo.fit(X_train_tfidf, y_train_encoded)\n",
        "        y_pred = modelo.predict(X_test_tfidf)\n",
        "\n",
        "    print(f\"{nome}: Acurácia = {score:.2f}\")"
      ],
      "metadata": {
        "colab": {
          "base_uri": "https://localhost:8080/"
        },
        "id": "SrEhxB2Xf8n0",
        "outputId": "2bb8af1d-ae6a-4f01-dbb6-339ffe8dd0cf"
      },
      "execution_count": 107,
      "outputs": [
        {
          "output_type": "stream",
          "name": "stdout",
          "text": [
            "Regressão Logística: Acurácia = 0.50\n",
            "SVM: Acurácia = 0.50\n",
            "Arvore de Decisão: Acurácia = 0.50\n",
            "Random Forest: Acurácia = 0.50\n",
            "Gradient Boosting: Acurácia = 0.50\n",
            "AdaBoost: Acurácia = 0.50\n",
            "KNN: Acurácia = 0.50\n",
            "Naive Bayes: Acurácia = 0.50\n"
          ]
        },
        {
          "output_type": "stream",
          "name": "stderr",
          "text": [
            "/usr/local/lib/python3.10/dist-packages/sklearn/ensemble/_weight_boosting.py:527: FutureWarning: The SAMME.R algorithm (the default) is deprecated and will be removed in 1.6. Use the SAMME algorithm to circumvent this warning.\n",
            "  warnings.warn(\n"
          ]
        },
        {
          "output_type": "stream",
          "name": "stdout",
          "text": [
            "Extra Trees: Acurácia = 0.50\n"
          ]
        },
        {
          "output_type": "stream",
          "name": "stderr",
          "text": [
            "/usr/local/lib/python3.10/dist-packages/xgboost/core.py:158: UserWarning: [17:30:39] WARNING: /workspace/src/learner.cc:740: \n",
            "Parameters: { \"use_label_encoder\" } are not used.\n",
            "\n",
            "  warnings.warn(smsg, UserWarning)\n"
          ]
        },
        {
          "output_type": "stream",
          "name": "stdout",
          "text": [
            "XGBoost: Acurácia = 0.50\n"
          ]
        }
      ]
    },
    {
      "cell_type": "code",
      "source": [
        "    # Plotando a Matriz de Confusão\n",
        "    plt.figure(figsize=(5, 4))\n",
        "    plt.imshow(cm, interpolation='nearest', cmap=plt.cm.Blues)\n",
        "    plt.title(f'{nome} - Matriz de Confusão')\n",
        "    plt.colorbar()\n",
        "    tick_marks = np.arange(len(le.classes_))\n",
        "    plt.xticks(tick_marks, le.classes_, rotation=45)\n",
        "    plt.yticks(tick_marks, le.classes_)\n",
        "    plt.tight_layout()\n",
        "    plt.ylabel('Rótulo Verdadeiro')\n",
        "    plt.xlabel('Rótulo Previsto')\n",
        "    plt.show()\n",
        "  # Atualizando o melhor modelo\n",
        "    if acuracia > melhor_acuracia:\n",
        "        melhor_acuracia = acuracia\n",
        "        melhor_kappa = kappa\n",
        "        melhor_modelo = nome\n",
        "\n",
        "# Resumo do melhor modelo\n",
        "print(\"Melhor Modelo:\")\n",
        "print(f\"O melhor modelo foi: {melhor_modelo}\")\n",
        "print(f\"Acurácia = {melhor_acuracia:.2f}\")\n",
        "print(f\"Cohen Kappa Score = {melhor_kappa:.2f}\")\n"
      ],
      "metadata": {
        "colab": {
          "base_uri": "https://localhost:8080/",
          "height": 495
        },
        "id": "lMl7sHU4J-tt",
        "outputId": "c33a0253-f35f-4395-ef62-00dc9dffa0fd"
      },
      "execution_count": 108,
      "outputs": [
        {
          "output_type": "display_data",
          "data": {
            "text/plain": [
              "<Figure size 500x400 with 2 Axes>"
            ],
            "image/png": "[encoded data removed]"
          },
          "metadata": {}
        },
        {
          "output_type": "stream",
          "name": "stdout",
          "text": [
            "Melhor Modelo:\n",
            "O melhor modelo foi: XGBoost\n",
            "Acurácia = 0.50\n",
            "Cohen Kappa Score = 0.00\n"
          ]
        }
      ]
    }
  ],
  "metadata": {
    "colab": {
      "provenance": [],
      "include_colab_link": true
    },
    "kernelspec": {
      "display_name": "Python 3",
      "name": "python3"
    }
  },
  "nbformat": 4,
  "nbformat_minor": 0
}